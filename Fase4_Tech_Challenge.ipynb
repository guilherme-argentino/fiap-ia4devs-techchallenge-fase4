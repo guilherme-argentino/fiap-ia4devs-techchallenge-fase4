{
  "nbformat": 4,
  "nbformat_minor": 0,
  "metadata": {
    "colab": {
      "provenance": [],
      "gpuType": "T4",
      "include_colab_link": true
    },
    "kernelspec": {
      "name": "python3",
      "display_name": "Python 3"
    },
    "language_info": {
      "name": "python"
    },
    "accelerator": "GPU"
  },
  "cells": [
    {
      "cell_type": "markdown",
      "metadata": {
        "id": "view-in-github",
        "colab_type": "text"
      },
      "source": [
        "<a href=\"https://colab.research.google.com/github/guilherme-argentino/fiap-ia4devs-techchallenge-fase4/blob/main/Fase4_Tech_Challenge.ipynb\" target=\"_parent\"><img src=\"https://colab.research.google.com/assets/colab-badge.svg\" alt=\"Open In Colab\"/></a>"
      ]
    },
    {
      "cell_type": "markdown",
      "source": [
        "# Reconhecimento Facial\n",
        "\n",
        "Desafio numero 4: analisando rostos, sentimentos e atividades."
      ],
      "metadata": {
        "id": "U3AkO68SHJBJ"
      }
    },
    {
      "cell_type": "markdown",
      "source": [
        "## Instalar Dependências"
      ],
      "metadata": {
        "id": "SRCZdI44HYof"
      }
    },
    {
      "cell_type": "code",
      "source": [
        "# Instalar dependências necessárias\n",
        "!pip install opencv-python opencv-python-headless matplotlib gdown deepface mediapipe fpdf face_recognition dlib"
      ],
      "metadata": {
        "colab": {
          "base_uri": "https://localhost:8080/"
        },
        "id": "gNVuz7o3lPGx",
        "outputId": "2fc937ed-13c4-4e22-aea3-939271ba6b33"
      },
      "execution_count": 2,
      "outputs": [
        {
          "output_type": "stream",
          "name": "stdout",
          "text": [
            "Requirement already satisfied: opencv-python in /usr/local/lib/python3.11/dist-packages (4.11.0.86)\n",
            "Requirement already satisfied: opencv-python-headless in /usr/local/lib/python3.11/dist-packages (4.11.0.86)\n",
            "Requirement already satisfied: matplotlib in /usr/local/lib/python3.11/dist-packages (3.10.0)\n",
            "Requirement already satisfied: gdown in /usr/local/lib/python3.11/dist-packages (5.2.0)\n",
            "Requirement already satisfied: deepface in /usr/local/lib/python3.11/dist-packages (0.0.93)\n",
            "Requirement already satisfied: mediapipe in /usr/local/lib/python3.11/dist-packages (0.10.21)\n",
            "Requirement already satisfied: fpdf in /usr/local/lib/python3.11/dist-packages (1.7.2)\n",
            "Requirement already satisfied: face_recognition in /usr/local/lib/python3.11/dist-packages (1.3.0)\n",
            "Requirement already satisfied: dlib in /usr/local/lib/python3.11/dist-packages (19.24.2)\n",
            "Requirement already satisfied: numpy>=1.21.2 in /usr/local/lib/python3.11/dist-packages (from opencv-python) (1.26.4)\n",
            "Requirement already satisfied: contourpy>=1.0.1 in /usr/local/lib/python3.11/dist-packages (from matplotlib) (1.3.1)\n",
            "Requirement already satisfied: cycler>=0.10 in /usr/local/lib/python3.11/dist-packages (from matplotlib) (0.12.1)\n",
            "Requirement already satisfied: fonttools>=4.22.0 in /usr/local/lib/python3.11/dist-packages (from matplotlib) (4.56.0)\n",
            "Requirement already satisfied: kiwisolver>=1.3.1 in /usr/local/lib/python3.11/dist-packages (from matplotlib) (1.4.8)\n",
            "Requirement already satisfied: packaging>=20.0 in /usr/local/lib/python3.11/dist-packages (from matplotlib) (24.2)\n",
            "Requirement already satisfied: pillow>=8 in /usr/local/lib/python3.11/dist-packages (from matplotlib) (11.1.0)\n",
            "Requirement already satisfied: pyparsing>=2.3.1 in /usr/local/lib/python3.11/dist-packages (from matplotlib) (3.2.1)\n",
            "Requirement already satisfied: python-dateutil>=2.7 in /usr/local/lib/python3.11/dist-packages (from matplotlib) (2.8.2)\n",
            "Requirement already satisfied: beautifulsoup4 in /usr/local/lib/python3.11/dist-packages (from gdown) (4.13.3)\n",
            "Requirement already satisfied: filelock in /usr/local/lib/python3.11/dist-packages (from gdown) (3.17.0)\n",
            "Requirement already satisfied: requests[socks] in /usr/local/lib/python3.11/dist-packages (from gdown) (2.32.3)\n",
            "Requirement already satisfied: tqdm in /usr/local/lib/python3.11/dist-packages (from gdown) (4.67.1)\n",
            "Requirement already satisfied: pandas>=0.23.4 in /usr/local/lib/python3.11/dist-packages (from deepface) (2.2.2)\n",
            "Requirement already satisfied: tensorflow>=1.9.0 in /usr/local/lib/python3.11/dist-packages (from deepface) (2.18.0)\n",
            "Requirement already satisfied: keras>=2.2.0 in /usr/local/lib/python3.11/dist-packages (from deepface) (3.8.0)\n",
            "Requirement already satisfied: Flask>=1.1.2 in /usr/local/lib/python3.11/dist-packages (from deepface) (3.1.0)\n",
            "Requirement already satisfied: flask-cors>=4.0.1 in /usr/local/lib/python3.11/dist-packages (from deepface) (5.0.1)\n",
            "Requirement already satisfied: mtcnn>=0.1.0 in /usr/local/lib/python3.11/dist-packages (from deepface) (1.0.0)\n",
            "Requirement already satisfied: retina-face>=0.0.1 in /usr/local/lib/python3.11/dist-packages (from deepface) (0.0.17)\n",
            "Requirement already satisfied: fire>=0.4.0 in /usr/local/lib/python3.11/dist-packages (from deepface) (0.7.0)\n",
            "Requirement already satisfied: gunicorn>=20.1.0 in /usr/local/lib/python3.11/dist-packages (from deepface) (23.0.0)\n",
            "Requirement already satisfied: absl-py in /usr/local/lib/python3.11/dist-packages (from mediapipe) (1.4.0)\n",
            "Requirement already satisfied: attrs>=19.1.0 in /usr/local/lib/python3.11/dist-packages (from mediapipe) (25.3.0)\n",
            "Requirement already satisfied: flatbuffers>=2.0 in /usr/local/lib/python3.11/dist-packages (from mediapipe) (25.2.10)\n",
            "Requirement already satisfied: jax in /usr/local/lib/python3.11/dist-packages (from mediapipe) (0.5.2)\n",
            "Requirement already satisfied: jaxlib in /usr/local/lib/python3.11/dist-packages (from mediapipe) (0.5.1)\n",
            "Requirement already satisfied: opencv-contrib-python in /usr/local/lib/python3.11/dist-packages (from mediapipe) (4.11.0.86)\n",
            "Requirement already satisfied: protobuf<5,>=4.25.3 in /usr/local/lib/python3.11/dist-packages (from mediapipe) (4.25.6)\n",
            "Requirement already satisfied: sounddevice>=0.4.4 in /usr/local/lib/python3.11/dist-packages (from mediapipe) (0.5.1)\n",
            "Requirement already satisfied: sentencepiece in /usr/local/lib/python3.11/dist-packages (from mediapipe) (0.2.0)\n",
            "Requirement already satisfied: face-recognition-models>=0.3.0 in /usr/local/lib/python3.11/dist-packages (from face_recognition) (0.3.0)\n",
            "Requirement already satisfied: Click>=6.0 in /usr/local/lib/python3.11/dist-packages (from face_recognition) (8.1.8)\n",
            "Requirement already satisfied: termcolor in /usr/local/lib/python3.11/dist-packages (from fire>=0.4.0->deepface) (2.5.0)\n",
            "Requirement already satisfied: Werkzeug>=3.1 in /usr/local/lib/python3.11/dist-packages (from Flask>=1.1.2->deepface) (3.1.3)\n",
            "Requirement already satisfied: Jinja2>=3.1.2 in /usr/local/lib/python3.11/dist-packages (from Flask>=1.1.2->deepface) (3.1.6)\n",
            "Requirement already satisfied: itsdangerous>=2.2 in /usr/local/lib/python3.11/dist-packages (from Flask>=1.1.2->deepface) (2.2.0)\n",
            "Requirement already satisfied: blinker>=1.9 in /usr/local/lib/python3.11/dist-packages (from Flask>=1.1.2->deepface) (1.9.0)\n",
            "Requirement already satisfied: rich in /usr/local/lib/python3.11/dist-packages (from keras>=2.2.0->deepface) (13.9.4)\n",
            "Requirement already satisfied: namex in /usr/local/lib/python3.11/dist-packages (from keras>=2.2.0->deepface) (0.0.8)\n",
            "Requirement already satisfied: h5py in /usr/local/lib/python3.11/dist-packages (from keras>=2.2.0->deepface) (3.12.1)\n",
            "Requirement already satisfied: optree in /usr/local/lib/python3.11/dist-packages (from keras>=2.2.0->deepface) (0.14.1)\n",
            "Requirement already satisfied: ml-dtypes in /usr/local/lib/python3.11/dist-packages (from keras>=2.2.0->deepface) (0.4.1)\n",
            "Requirement already satisfied: joblib>=1.4.2 in /usr/local/lib/python3.11/dist-packages (from mtcnn>=0.1.0->deepface) (1.4.2)\n",
            "Requirement already satisfied: lz4>=4.3.3 in /usr/local/lib/python3.11/dist-packages (from mtcnn>=0.1.0->deepface) (4.4.3)\n",
            "Requirement already satisfied: pytz>=2020.1 in /usr/local/lib/python3.11/dist-packages (from pandas>=0.23.4->deepface) (2025.1)\n",
            "Requirement already satisfied: tzdata>=2022.7 in /usr/local/lib/python3.11/dist-packages (from pandas>=0.23.4->deepface) (2025.1)\n",
            "Requirement already satisfied: six>=1.5 in /usr/local/lib/python3.11/dist-packages (from python-dateutil>=2.7->matplotlib) (1.17.0)\n",
            "Requirement already satisfied: charset-normalizer<4,>=2 in /usr/local/lib/python3.11/dist-packages (from requests[socks]->gdown) (3.4.1)\n",
            "Requirement already satisfied: idna<4,>=2.5 in /usr/local/lib/python3.11/dist-packages (from requests[socks]->gdown) (3.10)\n",
            "Requirement already satisfied: urllib3<3,>=1.21.1 in /usr/local/lib/python3.11/dist-packages (from requests[socks]->gdown) (2.3.0)\n",
            "Requirement already satisfied: certifi>=2017.4.17 in /usr/local/lib/python3.11/dist-packages (from requests[socks]->gdown) (2025.1.31)\n",
            "Requirement already satisfied: CFFI>=1.0 in /usr/local/lib/python3.11/dist-packages (from sounddevice>=0.4.4->mediapipe) (1.17.1)\n",
            "Requirement already satisfied: astunparse>=1.6.0 in /usr/local/lib/python3.11/dist-packages (from tensorflow>=1.9.0->deepface) (1.6.3)\n",
            "Requirement already satisfied: gast!=0.5.0,!=0.5.1,!=0.5.2,>=0.2.1 in /usr/local/lib/python3.11/dist-packages (from tensorflow>=1.9.0->deepface) (0.6.0)\n",
            "Requirement already satisfied: google-pasta>=0.1.1 in /usr/local/lib/python3.11/dist-packages (from tensorflow>=1.9.0->deepface) (0.2.0)\n",
            "Requirement already satisfied: libclang>=13.0.0 in /usr/local/lib/python3.11/dist-packages (from tensorflow>=1.9.0->deepface) (18.1.1)\n",
            "Requirement already satisfied: opt-einsum>=2.3.2 in /usr/local/lib/python3.11/dist-packages (from tensorflow>=1.9.0->deepface) (3.4.0)\n",
            "Requirement already satisfied: setuptools in /usr/local/lib/python3.11/dist-packages (from tensorflow>=1.9.0->deepface) (75.1.0)\n",
            "Requirement already satisfied: typing-extensions>=3.6.6 in /usr/local/lib/python3.11/dist-packages (from tensorflow>=1.9.0->deepface) (4.12.2)\n",
            "Requirement already satisfied: wrapt>=1.11.0 in /usr/local/lib/python3.11/dist-packages (from tensorflow>=1.9.0->deepface) (1.17.2)\n",
            "Requirement already satisfied: grpcio<2.0,>=1.24.3 in /usr/local/lib/python3.11/dist-packages (from tensorflow>=1.9.0->deepface) (1.71.0)\n",
            "Requirement already satisfied: tensorboard<2.19,>=2.18 in /usr/local/lib/python3.11/dist-packages (from tensorflow>=1.9.0->deepface) (2.18.0)\n",
            "Requirement already satisfied: tensorflow-io-gcs-filesystem>=0.23.1 in /usr/local/lib/python3.11/dist-packages (from tensorflow>=1.9.0->deepface) (0.37.1)\n",
            "Requirement already satisfied: soupsieve>1.2 in /usr/local/lib/python3.11/dist-packages (from beautifulsoup4->gdown) (2.6)\n",
            "Requirement already satisfied: scipy>=1.11.1 in /usr/local/lib/python3.11/dist-packages (from jax->mediapipe) (1.14.1)\n",
            "Requirement already satisfied: PySocks!=1.5.7,>=1.5.6 in /usr/local/lib/python3.11/dist-packages (from requests[socks]->gdown) (1.7.1)\n",
            "Requirement already satisfied: wheel<1.0,>=0.23.0 in /usr/local/lib/python3.11/dist-packages (from astunparse>=1.6.0->tensorflow>=1.9.0->deepface) (0.45.1)\n",
            "Requirement already satisfied: pycparser in /usr/local/lib/python3.11/dist-packages (from CFFI>=1.0->sounddevice>=0.4.4->mediapipe) (2.22)\n",
            "Requirement already satisfied: MarkupSafe>=2.0 in /usr/local/lib/python3.11/dist-packages (from Jinja2>=3.1.2->Flask>=1.1.2->deepface) (3.0.2)\n",
            "Requirement already satisfied: markdown>=2.6.8 in /usr/local/lib/python3.11/dist-packages (from tensorboard<2.19,>=2.18->tensorflow>=1.9.0->deepface) (3.7)\n",
            "Requirement already satisfied: tensorboard-data-server<0.8.0,>=0.7.0 in /usr/local/lib/python3.11/dist-packages (from tensorboard<2.19,>=2.18->tensorflow>=1.9.0->deepface) (0.7.2)\n",
            "Requirement already satisfied: markdown-it-py>=2.2.0 in /usr/local/lib/python3.11/dist-packages (from rich->keras>=2.2.0->deepface) (3.0.0)\n",
            "Requirement already satisfied: pygments<3.0.0,>=2.13.0 in /usr/local/lib/python3.11/dist-packages (from rich->keras>=2.2.0->deepface) (2.18.0)\n",
            "Requirement already satisfied: mdurl~=0.1 in /usr/local/lib/python3.11/dist-packages (from markdown-it-py>=2.2.0->rich->keras>=2.2.0->deepface) (0.1.2)\n"
          ]
        }
      ]
    },
    {
      "cell_type": "markdown",
      "source": [
        "## Importar bibliotecas"
      ],
      "metadata": {
        "id": "Zilt9SzwHdwP"
      }
    },
    {
      "cell_type": "code",
      "source": [
        "# Importar bibliotecas\n",
        "import gdown\n",
        "import os\n",
        "import cv2\n",
        "import numpy as np\n",
        "import time\n",
        "import base64\n",
        "from deepface import DeepFace\n",
        "import face_recognition\n",
        "import pandas as pd\n",
        "import mediapipe as mp\n",
        "from fpdf import FPDF"
      ],
      "metadata": {
        "id": "PeYCLMW7lSNg"
      },
      "execution_count": 3,
      "outputs": []
    },
    {
      "cell_type": "markdown",
      "source": [
        "## Download do vídeo"
      ],
      "metadata": {
        "id": "KkmfanhXHkgf"
      }
    },
    {
      "cell_type": "code",
      "source": [
        "# Baixar o vídeo diretamente do Google Drive\n",
        "VIDEO_ID = \"1B5PbZdUDi-r7Ac7BK3a3WdNppfQqM_Ne\"  # ID do arquivo no Google Drive\n",
        "VIDEO_PATH = \"/content/video.mp4\"\n",
        "gdown.download(f\"https://drive.google.com/uc?id={VIDEO_ID}\", VIDEO_PATH, quiet=False)"
      ],
      "metadata": {
        "colab": {
          "base_uri": "https://localhost:8080/",
          "height": 104
        },
        "id": "IG8d9DN7lbcg",
        "outputId": "003f098b-dda7-4640-c8ae-2be85b8b47f6"
      },
      "execution_count": 3,
      "outputs": [
        {
          "output_type": "stream",
          "name": "stderr",
          "text": [
            "Downloading...\n",
            "From: https://drive.google.com/uc?id=1B5PbZdUDi-r7Ac7BK3a3WdNppfQqM_Ne\n",
            "To: /content/video.mp4\n",
            "100%|██████████| 38.3M/38.3M [00:00<00:00, 43.8MB/s]\n"
          ]
        },
        {
          "output_type": "execute_result",
          "data": {
            "text/plain": [
              "'/content/video.mp4'"
            ],
            "application/vnd.google.colaboratory.intrinsic+json": {
              "type": "string"
            }
          },
          "metadata": {},
          "execution_count": 3
        }
      ]
    },
    {
      "cell_type": "markdown",
      "source": [
        "## Funções auxiliares"
      ],
      "metadata": {
        "id": "KCumIN9UHpt3"
      }
    },
    {
      "cell_type": "code",
      "source": [
        "# Configuração do Mediapipe para detecção de atividades\n",
        "mp_pose = mp.solutions.pose\n",
        "pose = mp_pose.Pose()\n",
        "\n",
        "def detectar_faces(frame, face_cascade):\n",
        "    # Convert to RGB\n",
        "    rgb_frame = cv2.cvtColor(frame, cv2.COLOR_BGR2RGB)\n",
        "\n",
        "    # Detect faces\n",
        "    faces = face_cascade.detectMultiScale(gray, scaleFactor=1.1, minNeighbors=5, minSize=(30, 30))\n",
        "\n",
        "    # Draw rectangles around faces\n",
        "    for (x, y, w, h) in faces:\n",
        "        cv2.rectangle(frame, (x, y), (x+w, y+h), (0, 255, 0), 2)\n",
        "\n",
        "    return frame, len(faces)\n",
        "\n",
        "def analisar_emocao(frame):\n",
        "    try:\n",
        "        analysis = DeepFace.analyze(frame, actions=['emotion'], enforce_detection=False)\n",
        "        return analysis[0]['dominant_emotion']\n",
        "    except:\n",
        "        return \"desconhecido\"\n",
        "\n",
        "def detectar_atividade(frame):\n",
        "    rgb_frame = cv2.cvtColor(frame, cv2.COLOR_BGR2RGB)\n",
        "    results = pose.process(rgb_frame)\n",
        "    return \"Movimento detectado\" if results.pose_landmarks else \"Sem atividade\"\n",
        "\n",
        "def detectar_faces(frame, detector):\n",
        "    # Convert the image from BGR color (which OpenCV uses) to RGB color (which face_recognition uses)\n",
        "    rgb_frame = frame[:, :, ::-1]\n",
        "\n",
        "    # Detect faces using face_recognition\n",
        "    face_locations = face_recognition.face_locations(rgb_frame)\n",
        "\n",
        "    # Draw bounding boxes on detected faces\n",
        "    for (top, right, bottom, left) in face_locations:\n",
        "        cv2.rectangle(frame, (left, top), (right, bottom), (0, 255, 0), 2)\n",
        "\n",
        "    return frame, len(face_locations)\n",
        "\n",
        "def processar_video(video_path, output_path):\n",
        "    # Load pre-trained face detection model\n",
        "    face_cascade = cv2.CascadeClassifier(cv2.data.haarcascades + 'haarcascade_frontalface_default.xml')\n",
        "\n",
        "    cap = cv2.VideoCapture(video_path)\n",
        "    fourcc = cv2.VideoWriter_fourcc(*'XVID')\n",
        "    out = cv2.VideoWriter(output_path, fourcc, 20.0, (int(cap.get(3)), int(cap.get(4))))\n",
        "\n",
        "    total_frames = int(cap.get(cv2.CAP_PROP_FRAME_COUNT))\n",
        "    processed_frames = 0\n",
        "\n",
        "    start_time = time.time() # Inicia a contagem do tempo\n",
        "\n",
        "    print(f\"Frames processados: {processed_frames}/{total_frames}\")\n",
        "\n",
        "    dados = []\n",
        "    frame_count = 0\n",
        "\n",
        "    while cap.isOpened():\n",
        "        ret, frame = cap.read()\n",
        "        if not ret:\n",
        "            break\n",
        "\n",
        "        frame_count += 1\n",
        "        frame, num_faces = detectar_faces(frame, face_cascade) # Pass None as detector is not used\n",
        "        emocao = analisar_emocao(frame)\n",
        "        atividade = detectar_atividade(frame)\n",
        "        dados.append([frame_count, num_faces, emocao, atividade])\n",
        "        out.write(frame)\n",
        "\n",
        "        processed_frames += 1\n",
        "\n",
        "        if processed_frames % 100 == 0:\n",
        "            print(f\"Frames processados: {processed_frames}/{total_frames}\")\n",
        "\n",
        "            end_time = time.time() # Finaliza a contagem do tempo\n",
        "            total_time = end_time - start_time # Calcula o tempo total\n",
        "            total_por_frame = total_time/processed_frames\n",
        "\n",
        "            print(f\"Tempo parcial de processamento: {total_time:.2f} segundos\") # Imprime o tempo total\n",
        "            print(f\"Tempo parcial de processamento por frame: {total_por_frame:.2f} segundos\") # Imprime o tempo total\n",
        "            print(f\"Tempo total de processamento previsto: {total_por_frame*total_frames} segundos\") # Imprime o tempo total\n",
        "\n",
        "    cap.release()\n",
        "    out.release()\n",
        "    cv2.destroyAllWindows()\n",
        "    return dados\n",
        "\n",
        "def gerar_relatorio(dados, relatorio_path):\n",
        "    df = pd.DataFrame(dados, columns=['Frame', 'Rostos', 'Expressão', 'Atividade'])\n",
        "    pdf = FPDF()\n",
        "    pdf.add_page()\n",
        "    pdf.set_font(\"Arial\", size=12)\n",
        "    pdf.cell(200, 10, \"Relatório de Análise de Vídeo\", ln=True, align='C')\n",
        "    pdf.cell(200, 10, f\"Total de Frames: {len(df)}\", ln=True, align='L')\n",
        "    pdf.cell(200, 10, f\"Rostos Detectados: {df['Rostos'].sum()}\", ln=True, align='L')\n",
        "    pdf.output(relatorio_path)"
      ],
      "metadata": {
        "id": "8aufSB1am74Z"
      },
      "execution_count": 4,
      "outputs": []
    },
    {
      "cell_type": "markdown",
      "source": [
        "## Fluxo principal\n",
        "\n",
        "Execução das rotinas de processamento, usando as bibliotecas OpenCV, DLib, Mediapipe e Deepface. No final, gera um PDF."
      ],
      "metadata": {
        "id": "kwuPCrGCHvBv"
      }
    },
    {
      "cell_type": "code",
      "source": [
        "# Processar vídeo com OpenCV, DLib, Mediapipe, Deepface\n",
        "def main():\n",
        "    video_path = \"/content/video.mp4\"\n",
        "    output_path = \"results/output_video.avi\"\n",
        "    relatorio_path = \"results/relatorio.pdf\"\n",
        "\n",
        "    start_time = time.time() # Inicia a contagem do tempo\n",
        "\n",
        "    # Create the 'results' directory if it doesn't exist\n",
        "    os.makedirs(os.path.dirname(relatorio_path), exist_ok=True)\n",
        "\n",
        "    dados = processar_video(video_path, output_path)\n",
        "    gerar_relatorio(dados, relatorio_path)\n",
        "    print(\"Processamento concluído! Relatório gerado.\")\n",
        "\n",
        "    end_time = time.time() # Finaliza a contagem do tempo\n",
        "    total_time = end_time - start_time # Calcula o tempo total\n",
        "\n",
        "    print(f\"Tempo total de processamento: {total_time:.2f} segundos\") # Imprime o tempo total\n",
        "\n",
        "# Executar o pipeline\n",
        "main()"
      ],
      "metadata": {
        "colab": {
          "base_uri": "https://localhost:8080/"
        },
        "id": "PP2tC1c5GpJQ",
        "outputId": "ef0a2761-f522-41ff-8087-e5ae3167cbb8"
      },
      "execution_count": 5,
      "outputs": [
        {
          "output_type": "stream",
          "name": "stdout",
          "text": [
            "Frames processados: 0/3326\n",
            "Frames processados: 100/3326\n",
            "Tempo parcial de processamento: 132.17 segundos\n",
            "Tempo parcial de processamento por frame: 1.32 segundos\n",
            "Tempo total de processamento previsto: 4395.852535586357 segundos\n",
            "Frames processados: 200/3326\n",
            "Tempo parcial de processamento: 257.56 segundos\n",
            "Tempo parcial de processamento por frame: 1.29 segundos\n",
            "Tempo total de processamento previsto: 4283.2843025922775 segundos\n",
            "Frames processados: 300/3326\n",
            "Tempo parcial de processamento: 410.48 segundos\n",
            "Tempo parcial de processamento por frame: 1.37 segundos\n",
            "Tempo total de processamento previsto: 4550.811364569664 segundos\n",
            "Frames processados: 400/3326\n",
            "Tempo parcial de processamento: 538.59 segundos\n",
            "Tempo parcial de processamento por frame: 1.35 segundos\n",
            "Tempo total de processamento previsto: 4478.411351009607 segundos\n",
            "Frames processados: 500/3326\n",
            "Tempo parcial de processamento: 638.76 segundos\n",
            "Tempo parcial de processamento por frame: 1.28 segundos\n",
            "Tempo total de processamento previsto: 4249.028070472717 segundos\n",
            "Frames processados: 600/3326\n",
            "Tempo parcial de processamento: 743.58 segundos\n",
            "Tempo parcial de processamento por frame: 1.24 segundos\n",
            "Tempo total de processamento previsto: 4121.887234372298 segundos\n",
            "Frames processados: 700/3326\n",
            "Tempo parcial de processamento: 848.14 segundos\n",
            "Tempo parcial de processamento por frame: 1.21 segundos\n",
            "Tempo total de processamento previsto: 4029.8548311771665 segundos\n",
            "Frames processados: 800/3326\n",
            "Tempo parcial de processamento: 992.84 segundos\n",
            "Tempo parcial de processamento por frame: 1.24 segundos\n",
            "Tempo total de processamento previsto: 4127.713613064885 segundos\n",
            "Frames processados: 900/3326\n",
            "Tempo parcial de processamento: 1148.35 segundos\n",
            "Tempo parcial de processamento por frame: 1.28 segundos\n",
            "Tempo total de processamento previsto: 4243.787358294063 segundos\n",
            "Frames processados: 1000/3326\n",
            "Tempo parcial de processamento: 1296.54 segundos\n",
            "Tempo parcial de processamento por frame: 1.30 segundos\n",
            "Tempo total de processamento previsto: 4312.275782193185 segundos\n",
            "Frames processados: 1100/3326\n",
            "Tempo parcial de processamento: 1436.87 segundos\n",
            "Tempo parcial de processamento por frame: 1.31 segundos\n",
            "Tempo total de processamento previsto: 4344.559491939545 segundos\n",
            "Frames processados: 1200/3326\n",
            "Tempo parcial de processamento: 1539.58 segundos\n",
            "Tempo parcial de processamento por frame: 1.28 segundos\n",
            "Tempo total de processamento previsto: 4267.195382715464 segundos\n",
            "Frames processados: 1300/3326\n",
            "Tempo parcial de processamento: 1653.09 segundos\n",
            "Tempo parcial de processamento por frame: 1.27 segundos\n",
            "Tempo total de processamento previsto: 4229.363132876983 segundos\n",
            "Frames processados: 1400/3326\n",
            "Tempo parcial de processamento: 1782.30 segundos\n",
            "Tempo parcial de processamento por frame: 1.27 segundos\n",
            "Tempo total de processamento previsto: 4234.243297208037 segundos\n",
            "Frames processados: 1500/3326\n",
            "Tempo parcial de processamento: 1911.77 segundos\n",
            "Tempo parcial de processamento por frame: 1.27 segundos\n",
            "Tempo total de processamento previsto: 4239.030099002202 segundos\n",
            "Frames processados: 1600/3326\n",
            "Tempo parcial de processamento: 2035.97 segundos\n",
            "Tempo parcial de processamento por frame: 1.27 segundos\n",
            "Tempo total de processamento previsto: 4232.281649779379 segundos\n",
            "Frames processados: 1700/3326\n",
            "Tempo parcial de processamento: 2174.24 segundos\n",
            "Tempo parcial de processamento por frame: 1.28 segundos\n",
            "Tempo total de processamento previsto: 4253.837498988263 segundos\n",
            "Frames processados: 1800/3326\n",
            "Tempo parcial de processamento: 2285.19 segundos\n",
            "Tempo parcial de processamento por frame: 1.27 segundos\n",
            "Tempo total de processamento previsto: 4222.5206264408425 segundos\n",
            "Frames processados: 1900/3326\n",
            "Tempo parcial de processamento: 2393.74 segundos\n",
            "Tempo parcial de processamento por frame: 1.26 segundos\n",
            "Tempo total de processamento previsto: 4190.298486779113 segundos\n",
            "Frames processados: 2000/3326\n",
            "Tempo parcial de processamento: 2501.44 segundos\n",
            "Tempo parcial de processamento por frame: 1.25 segundos\n",
            "Tempo total de processamento previsto: 4159.89350207758 segundos\n",
            "Frames processados: 2100/3326\n",
            "Tempo parcial de processamento: 2616.84 segundos\n",
            "Tempo parcial de processamento por frame: 1.25 segundos\n",
            "Tempo total de processamento previsto: 4144.574517238708 segundos\n",
            "Frames processados: 2200/3326\n",
            "Tempo parcial de processamento: 2733.36 segundos\n",
            "Tempo parcial de processamento por frame: 1.24 segundos\n",
            "Tempo total de processamento previsto: 4132.342679553031 segundos\n",
            "Frames processados: 2300/3326\n",
            "Tempo parcial de processamento: 2846.09 segundos\n",
            "Tempo parcial de processamento por frame: 1.24 segundos\n",
            "Tempo total de processamento previsto: 4115.699912571907 segundos\n",
            "Frames processados: 2400/3326\n",
            "Tempo parcial de processamento: 2961.17 segundos\n",
            "Tempo parcial de processamento por frame: 1.23 segundos\n",
            "Tempo total de processamento previsto: 4103.685885965824 segundos\n",
            "Frames processados: 2500/3326\n",
            "Tempo parcial de processamento: 3094.43 segundos\n",
            "Tempo parcial de processamento por frame: 1.24 segundos\n",
            "Tempo total de processamento previsto: 4116.832847498703 segundos\n",
            "Frames processados: 2600/3326\n",
            "Tempo parcial de processamento: 3230.19 segundos\n",
            "Tempo parcial de processamento por frame: 1.24 segundos\n",
            "Tempo total de processamento previsto: 4132.163070454048 segundos\n",
            "Frames processados: 2700/3326\n",
            "Tempo parcial de processamento: 3368.01 segundos\n",
            "Tempo parcial de processamento por frame: 1.25 segundos\n",
            "Tempo total de processamento previsto: 4148.884970950728 segundos\n",
            "Frames processados: 2800/3326\n",
            "Tempo parcial de processamento: 3497.06 segundos\n",
            "Tempo parcial de processamento por frame: 1.25 segundos\n",
            "Tempo total de processamento previsto: 4154.002334571395 segundos\n",
            "Frames processados: 2900/3326\n",
            "Tempo parcial de processamento: 3612.86 segundos\n",
            "Tempo parcial de processamento por frame: 1.25 segundos\n",
            "Tempo total de processamento previsto: 4143.578744873178 segundos\n",
            "Frames processados: 3000/3326\n",
            "Tempo parcial de processamento: 3726.78 segundos\n",
            "Tempo parcial de processamento por frame: 1.24 segundos\n",
            "Tempo total de processamento previsto: 4131.752379810016 segundos\n",
            "Frames processados: 3100/3326\n",
            "Tempo parcial de processamento: 3842.22 segundos\n",
            "Tempo parcial de processamento por frame: 1.24 segundos\n",
            "Tempo total de processamento previsto: 4122.328337833496 segundos\n",
            "Frames processados: 3200/3326\n",
            "Tempo parcial de processamento: 3974.21 segundos\n",
            "Tempo parcial de processamento por frame: 1.24 segundos\n",
            "Tempo total de processamento previsto: 4130.694723229855 segundos\n",
            "Frames processados: 3300/3326\n",
            "Tempo parcial de processamento: 4109.44 segundos\n",
            "Tempo parcial de processamento por frame: 1.25 segundos\n",
            "Tempo total de processamento previsto: 4141.8141068400755 segundos\n",
            "Processamento concluído! Relatório gerado.\n",
            "Tempo total de processamento: 4144.02 segundos\n"
          ]
        }
      ]
    }
  ]
}