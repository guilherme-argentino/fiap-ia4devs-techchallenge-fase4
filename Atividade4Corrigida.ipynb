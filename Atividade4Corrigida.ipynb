{
  "nbformat": 4,
  "nbformat_minor": 0,
  "metadata": {
    "colab": {
      "provenance": [],
      "authorship_tag": "ABX9TyMolNoCeA5PEyQksGBqryJC",
      "include_colab_link": true
    },
    "kernelspec": {
      "name": "python3",
      "display_name": "Python 3"
    },
    "language_info": {
      "name": "python"
    }
  },
  "cells": [
    {
      "cell_type": "markdown",
      "metadata": {
        "id": "view-in-github",
        "colab_type": "text"
      },
      "source": [
        "<a href=\"https://colab.research.google.com/github/guilherme-argentino/fiap-ia4devs-techchallenge-fase4/blob/main/Atividade4Corrigida.ipynb\" target=\"_parent\"><img src=\"https://colab.research.google.com/assets/colab-badge.svg\" alt=\"Open In Colab\"/></a>"
      ]
    },
    {
      "cell_type": "code",
      "execution_count": null,
      "metadata": {
        "id": "mTGp0ps1E2Sw"
      },
      "outputs": [],
      "source": [
        "import cv2\n",
        "import dlib\n",
        "import numpy as np\n",
        "import pandas as pd\n",
        "from deepface import DeepFace\n",
        "import mediapipe as mp\n",
        "from fpdf import FPDF\n",
        "\n",
        "# Configuração do Mediapipe para detecção de atividades\n",
        "mp_pose = mp.solutions.pose\n",
        "pose = mp_pose.Pose()\n",
        "\n",
        "def detectar_faces(frame, detector):\n",
        "    gray = cv2.cvtColor(frame, cv2.COLOR_BGR2GRAY)\n",
        "    faces = detector(gray)\n",
        "    for face in faces:\n",
        "        x, y, w, h = face.left(), face.top(), face.width(), face.height()\n",
        "        cv2.rectangle(frame, (x, y), (x + w, y + h), (0, 255, 0), 2)\n",
        "    return frame, len(faces)\n",
        "\n",
        "def analisar_emocao(frame):\n",
        "    try:\n",
        "        analysis = DeepFace.analyze(frame, actions=['emotion'], enforce_detection=False)\n",
        "        return analysis[0]['dominant_emotion']\n",
        "    except:\n",
        "        return \"desconhecido\"\n",
        "\n",
        "def detectar_atividade(frame):\n",
        "    rgb_frame = cv2.cvtColor(frame, cv2.COLOR_BGR2RGB)\n",
        "    results = pose.process(rgb_frame)\n",
        "    return \"Movimento detectado\" if results.pose_landmarks else \"Sem atividade\"\n",
        "\n",
        "def processar_video(video_path, output_path):\n",
        "    cap = cv2.VideoCapture(video_path)\n",
        "    fourcc = cv2.VideoWriter_fourcc(*'XVID')\n",
        "    out = cv2.VideoWriter(output_path, fourcc, 20.0, (int(cap.get(3)), int(cap.get(4))))\n",
        "    detector = dlib.get_frontal_face_detector()\n",
        "    dados = []\n",
        "    frame_count = 0\n",
        "\n",
        "    while cap.isOpened():\n",
        "        ret, frame = cap.read()\n",
        "        if not ret:\n",
        "            break\n",
        "\n",
        "        frame_count += 1\n",
        "        frame, num_faces = detectar_faces(frame, detector)\n",
        "        emocao = analisar_emocao(frame)\n",
        "        atividade = detectar_atividade(frame)\n",
        "        dados.append([frame_count, num_faces, emocao, atividade])\n",
        "        out.write(frame)\n",
        "\n",
        "    cap.release()\n",
        "    out.release()\n",
        "    cv2.destroyAllWindows()\n",
        "    return dados\n",
        "\n",
        "def gerar_relatorio(dados, relatorio_path):\n",
        "    df = pd.DataFrame(dados, columns=['Frame', 'Rostos', 'Expressão', 'Atividade'])\n",
        "    pdf = FPDF()\n",
        "    pdf.add_page()\n",
        "    pdf.set_font(\"Arial\", size=12)\n",
        "    pdf.cell(200, 10, \"Relatório de Análise de Vídeo\", ln=True, align='C')\n",
        "    pdf.cell(200, 10, f\"Total de Frames: {len(df)}\", ln=True, align='L')\n",
        "    pdf.cell(200, 10, f\"Rostos Detectados: {df['Rostos'].sum()}\", ln=True, align='L')\n",
        "    pdf.output(relatorio_path)\n",
        "\n",
        "def main():\n",
        "    video_path = \"data/input_video.mp4\"\n",
        "    output_path = \"results/output_video.avi\"\n",
        "    relatorio_path = \"results/relatorio.pdf\"\n",
        "    dados = processar_video(video_path, output_path)\n",
        "    gerar_relatorio(dados, relatorio_path)\n",
        "    print(\"Processamento concluído! Relatório gerado.\")\n",
        "\n",
        "# Executar o pipeline\n",
        "main()\n"
      ]
    }
  ]
}